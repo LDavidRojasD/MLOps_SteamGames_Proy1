{
 "cells": [
  {
   "cell_type": "markdown",
   "metadata": {},
   "source": [
    "# Creación de Consultas para los Endpoints de la API:"
   ]
  },
  {
   "cell_type": "markdown",
   "metadata": {},
   "source": [
    "#### 1. Importar librerías y archivos necesarios:"
   ]
  },
  {
   "cell_type": "code",
   "execution_count": 1,
   "metadata": {},
   "outputs": [],
   "source": [
    "import pandas as pd\n",
    "\n",
    "# Steam Games:\n",
    "SGames = pd.read_csv('Clean_Data\\\\SGames_CD.csv', quotechar='\"')\n",
    "\n",
    "# Users Items:\n",
    "UItems = pd.read_csv('Clean_Data\\\\UItems_CD.csv', quotechar='\"')\n",
    "\n",
    "# Users Reviews:\n",
    "UReviews = pd.read_csv('Clean_Data\\\\UReviews_CD.csv', quotechar='\"')\n",
    "\n",
    "# Users Reviews:\n",
    "Genres_Items = pd.read_csv('Clean_Data\\Genres_Items.csv', quotechar='\"')"
   ]
  },
  {
   "cell_type": "markdown",
   "metadata": {},
   "source": [
    "### 2. Crear la formula registros por desarrollador:\n",
    "\n",
    "def developer( desarrollador : str ): Cantidad de items y porcentaje de contenido Free por año según empresa desarrolladora. Ejemplo de retorno:\n",
    "\n",
    "| Año  | Cantidad de artículos | Contenido Gratis |\n",
    "|------|------------------------|-------------------|\n",
    "| 2023 | 50                     | 27%               |\n",
    "| 2022 | 45                     | 25%               |\n",
    "| xxxx | xx                     | x%                |\n"
   ]
  },
  {
   "cell_type": "markdown",
   "metadata": {},
   "source": [
    "2.1. Crear datos de entrada:"
   ]
  },
  {
   "cell_type": "code",
   "execution_count": 2,
   "metadata": {},
   "outputs": [
    {
     "name": "stdout",
     "output_type": "stream",
     "text": [
      "\n",
      "DataFrame final:\n"
     ]
    },
    {
     "data": {
      "text/html": [
       "<div>\n",
       "<style scoped>\n",
       "    .dataframe tbody tr th:only-of-type {\n",
       "        vertical-align: middle;\n",
       "    }\n",
       "\n",
       "    .dataframe tbody tr th {\n",
       "        vertical-align: top;\n",
       "    }\n",
       "\n",
       "    .dataframe thead th {\n",
       "        text-align: right;\n",
       "    }\n",
       "</style>\n",
       "<table border=\"1\" class=\"dataframe\">\n",
       "  <thead>\n",
       "    <tr style=\"text-align: right;\">\n",
       "      <th></th>\n",
       "      <th>id</th>\n",
       "      <th>developer</th>\n",
       "      <th>release_year</th>\n",
       "      <th>price</th>\n",
       "    </tr>\n",
       "  </thead>\n",
       "  <tbody>\n",
       "    <tr>\n",
       "      <th>0</th>\n",
       "      <td>761140.0</td>\n",
       "      <td>Kotoshiro</td>\n",
       "      <td>2018</td>\n",
       "      <td>4.99</td>\n",
       "    </tr>\n",
       "    <tr>\n",
       "      <th>1</th>\n",
       "      <td>643980.0</td>\n",
       "      <td>Secret Level SRL</td>\n",
       "      <td>2018</td>\n",
       "      <td>0.00</td>\n",
       "    </tr>\n",
       "    <tr>\n",
       "      <th>2</th>\n",
       "      <td>670290.0</td>\n",
       "      <td>Poolians.com</td>\n",
       "      <td>2017</td>\n",
       "      <td>0.00</td>\n",
       "    </tr>\n",
       "    <tr>\n",
       "      <th>3</th>\n",
       "      <td>767400.0</td>\n",
       "      <td>彼岸领域</td>\n",
       "      <td>2017</td>\n",
       "      <td>0.99</td>\n",
       "    </tr>\n",
       "    <tr>\n",
       "      <th>5</th>\n",
       "      <td>772540.0</td>\n",
       "      <td>Trickjump Games Ltd</td>\n",
       "      <td>2018</td>\n",
       "      <td>3.99</td>\n",
       "    </tr>\n",
       "    <tr>\n",
       "      <th>...</th>\n",
       "      <td>...</td>\n",
       "      <td>...</td>\n",
       "      <td>...</td>\n",
       "      <td>...</td>\n",
       "    </tr>\n",
       "    <tr>\n",
       "      <th>32127</th>\n",
       "      <td>745400.0</td>\n",
       "      <td>Bidoniera Games</td>\n",
       "      <td>2018</td>\n",
       "      <td>1.99</td>\n",
       "    </tr>\n",
       "    <tr>\n",
       "      <th>32128</th>\n",
       "      <td>773640.0</td>\n",
       "      <td>Nikita \"Ghost_RUS\"</td>\n",
       "      <td>2018</td>\n",
       "      <td>1.99</td>\n",
       "    </tr>\n",
       "    <tr>\n",
       "      <th>32129</th>\n",
       "      <td>733530.0</td>\n",
       "      <td>Sacada</td>\n",
       "      <td>2018</td>\n",
       "      <td>4.99</td>\n",
       "    </tr>\n",
       "    <tr>\n",
       "      <th>32130</th>\n",
       "      <td>610660.0</td>\n",
       "      <td>Laush Dmitriy Sergeevich</td>\n",
       "      <td>2018</td>\n",
       "      <td>1.99</td>\n",
       "    </tr>\n",
       "    <tr>\n",
       "      <th>32131</th>\n",
       "      <td>658870.0</td>\n",
       "      <td>xropi,stev3ns</td>\n",
       "      <td>2017</td>\n",
       "      <td>4.99</td>\n",
       "    </tr>\n",
       "  </tbody>\n",
       "</table>\n",
       "<p>27269 rows × 4 columns</p>\n",
       "</div>"
      ],
      "text/plain": [
       "             id                 developer  release_year  price\n",
       "0      761140.0                 Kotoshiro          2018   4.99\n",
       "1      643980.0          Secret Level SRL          2018   0.00\n",
       "2      670290.0              Poolians.com          2017   0.00\n",
       "3      767400.0                      彼岸领域          2017   0.99\n",
       "5      772540.0       Trickjump Games Ltd          2018   3.99\n",
       "...         ...                       ...           ...    ...\n",
       "32127  745400.0           Bidoniera Games          2018   1.99\n",
       "32128  773640.0        Nikita \"Ghost_RUS\"          2018   1.99\n",
       "32129  733530.0                    Sacada          2018   4.99\n",
       "32130  610660.0  Laush Dmitriy Sergeevich          2018   1.99\n",
       "32131  658870.0             xropi,stev3ns          2017   4.99\n",
       "\n",
       "[27269 rows x 4 columns]"
      ]
     },
     "execution_count": 2,
     "metadata": {},
     "output_type": "execute_result"
    }
   ],
   "source": [
    "# Seleccionar las columnas deseadas y eliminar filas con datos nulos\n",
    "End1_Developer = SGames[['id', 'developer', 'release_year', 'price']].dropna()\n",
    "\n",
    "# Mostrar el DataFrame resultante\n",
    "print(\"\\nDataFrame final:\")\n",
    "End1_Developer\n"
   ]
  },
  {
   "cell_type": "markdown",
   "metadata": {},
   "source": [
    "2.2. Obtener top-five de desarrolladores con más items para probar la fórmula:"
   ]
  },
  {
   "cell_type": "code",
   "execution_count": 3,
   "metadata": {},
   "outputs": [
    {
     "name": "stdout",
     "output_type": "stream",
     "text": [
      "Top 5 de desarrolladores que más aparecen:\n",
      "developer\n",
      "Ubisoft - San Francisco       1258\n",
      "SmiteWorks USA, LLC            808\n",
      "Dovetail Games                 252\n",
      "KOEI TECMO GAMES CO., LTD.     214\n",
      "Paradox Development Studio     150\n",
      "                              ... \n",
      "O'Stinky lab.                    1\n",
      "Attila D.                        1\n",
      "Hont                             1\n",
      "Xform                            1\n",
      "Gustav                           1\n",
      "Name: count, Length: 10599, dtype: int64\n"
     ]
    }
   ],
   "source": [
    "# Calcular el top 5 de desarrolladores que más aparecen\n",
    "top_developers = End1_Developer['developer'].value_counts().head(-5)\n",
    "\n",
    "# Mostrar el top 5\n",
    "print(\"Top 5 de desarrolladores que más aparecen:\")\n",
    "print(top_developers)"
   ]
  },
  {
   "cell_type": "markdown",
   "metadata": {},
   "source": [
    "2.3. Crear fórmula \"get_developer_stats\":"
   ]
  },
  {
   "cell_type": "code",
   "execution_count": 4,
   "metadata": {},
   "outputs": [],
   "source": [
    "def get_developer_stats(developer):\n",
    "    \n",
    "    # Filtrar el DataFrame por desarrollador\n",
    "    developer_df = End1_Developer[End1_Developer['developer'] == developer]\n",
    "\n",
    "    # Calcular la cantidad de items y el porcentaje de contenido gratuito por año\n",
    "    stats_by_year = developer_df.groupby('release_year').agg({'id': 'count', 'price': lambda x: (x == 0).sum() / len(x) * 100}).reset_index()\n",
    "   \n",
    "    stats_by_year.columns = ['release_year', 'item_count', 'free_content_percentage']\n",
    "\n",
    "    # Convertir los resultados a una lista de diccionarios\n",
    "    result_list = stats_by_year.to_dict(orient='records')\n",
    "\n",
    "    return result_list\n",
    "\n"
   ]
  },
  {
   "cell_type": "markdown",
   "metadata": {},
   "source": [
    "2.4. Probar la fórmula:"
   ]
  },
  {
   "cell_type": "code",
   "execution_count": 5,
   "metadata": {},
   "outputs": [
    {
     "name": "stdout",
     "output_type": "stream",
     "text": [
      "[{'release_year': 2018, 'item_count': 1, 'free_content_percentage': 100.0}]\n",
      "[{'release_year': 0, 'item_count': 1, 'free_content_percentage': 0.0}, {'release_year': 2014, 'item_count': 28, 'free_content_percentage': 0.0}, {'release_year': 2015, 'item_count': 53, 'free_content_percentage': 0.0}, {'release_year': 2016, 'item_count': 5, 'free_content_percentage': 0.0}, {'release_year': 2017, 'item_count': 127, 'free_content_percentage': 7.086614173228346}]\n"
     ]
    }
   ],
   "source": [
    "# Ejemplo de uso de la función\n",
    "print(get_developer_stats('Secret Level SRL'))\n",
    "\n",
    "print(get_developer_stats('KOEI TECMO GAMES CO., LTD.'))"
   ]
  },
  {
   "cell_type": "markdown",
   "metadata": {},
   "source": [
    "2.5. Guardar consulta (insumo para la API) en la carperta Data_Queries:"
   ]
  },
  {
   "cell_type": "code",
   "execution_count": 6,
   "metadata": {},
   "outputs": [
    {
     "name": "stdout",
     "output_type": "stream",
     "text": [
      "DataFrame exportado a Data_Queries/End1_Developer.csv\n"
     ]
    }
   ],
   "source": [
    "# Exportar el DataFrame a CSV\n",
    "End1_Developer.to_csv('Data_Queries/End1_Developer.csv', index=False)\n",
    "\n",
    "print(f\"DataFrame exportado a {'Data_Queries/End1_Developer.csv'}\")"
   ]
  },
  {
   "cell_type": "markdown",
   "metadata": {},
   "source": [
    "### 3. Crear función registros de usuario:\n",
    "\n",
    "def userdata( User_id : str ): Debe devolver cantidad de dinero gastado por el usuario, el porcentaje de recomendación en base a reviews.recommend y cantidad de items.\n",
    "\n",
    "\n",
    "Ejemplo de retorno: {\"Usuario X\" : us213ndjss09sdf, \"Dinero gastado\": 200 USD, \"% de recomendación\": 20%, \"cantidad de items\": 5}"
   ]
  },
  {
   "cell_type": "markdown",
   "metadata": {},
   "source": [
    "3.1. Crear datos de entrada:"
   ]
  },
  {
   "cell_type": "code",
   "execution_count": 58,
   "metadata": {},
   "outputs": [
    {
     "name": "stdout",
     "output_type": "stream",
     "text": [
      "\n",
      "DataFrame End2_User:\n",
      "     id            user_id  price\n",
      "0  10.0  76561197970982479   9.99\n",
      "1  10.0            js41637   9.99\n",
      "2  10.0         Riot-Punch   9.99\n",
      "\n",
      "DataFrame UReviews_F:\n",
      "   item_id            user_id  recommend\n",
      "0     1250  76561197970982479       True\n",
      "1    22200  76561197970982479       True\n",
      "2    43110  76561197970982479       True\n"
     ]
    }
   ],
   "source": [
    "\n",
    "# Crear el DataFrame End2_User\n",
    "UItems_F= UItems[['user_id', 'item_id']]\n",
    "End1_Developer_F=End1_Developer[['id','price']]\n",
    "End2_User = pd.merge(UItems_F, End1_Developer, left_on='item_id', right_on='id')\n",
    "End2_User = End2_User[['id', 'user_id', 'price']]\n",
    "UReviews_F = UReviews[['item_id', 'user_id','recommend']]\n",
    "\n",
    "\n",
    "# Mostrar el DataFrame resultante\n",
    "print(\"\\nDataFrame End2_User:\")\n",
    "print(End2_User.head(3))\n",
    "\n",
    "print(\"\\nDataFrame UReviews_F:\")\n",
    "print(UReviews_F.head(3))"
   ]
  },
  {
   "cell_type": "markdown",
   "metadata": {},
   "source": [
    "3.2. Crear fórmula \"userdata\":"
   ]
  },
  {
   "cell_type": "code",
   "execution_count": 65,
   "metadata": {},
   "outputs": [],
   "source": [
    "def userdata(User_id):\n",
    "    # Filtrar el DataFrame End2_User por user_id\n",
    "    user_df = End2_User[End2_User['user_id'] == User_id]\n",
    "\n",
    "    # Calcular la cantidad de dinero gastado por el usuario\n",
    "    total_money_spent = user_df['price'].sum()\n",
    "\n",
    "    # Calcular la cantidad de items\n",
    "    total_items = len(user_df)\n",
    "\n",
    "    # Filtrar el DataFrame UReviews_F por item_ids relacionados con el usuario\n",
    "    user_reviews_df = UReviews_F[UReviews_F['user_id'] == User_id]\n",
    "\n",
    "    # Calcular el porcentaje de recomendación\n",
    "    total_recommendations = user_reviews_df['recommend'].sum() # No es necesario especificar \"recommend = True\"\n",
    "    recommendation_percentage = (total_recommendations / total_items) * 100 if total_items > 0 else 0\n",
    "\n",
    "    # Crear el diccionario de resultados\n",
    "    result_dict = {\n",
    "        \"Usuario\": User_id,\n",
    "        \"Dinero gastado\": f\"{total_money_spent} USD\",\n",
    "        \"% de recomendación\": f\"{recommendation_percentage:.2f}%\",\n",
    "        \"Cantidad de items\": total_items\n",
    "    }\n",
    "\n",
    "    return result_dict"
   ]
  },
  {
   "cell_type": "markdown",
   "metadata": {},
   "source": [
    "3.3. Probar fórmula:"
   ]
  },
  {
   "cell_type": "code",
   "execution_count": 63,
   "metadata": {},
   "outputs": [
    {
     "name": "stdout",
     "output_type": "stream",
     "text": [
      "{'Usuario': '76561197970982479', 'Dinero gastado': '3404.33 USD', '% de recomendación': '1.33%', 'Cantidad de items': 226}\n"
     ]
    }
   ],
   "source": [
    "# Ejemplo de uso de la función\n",
    "user_stats_result = userdata('76561197970982479')\n",
    "print(user_stats_result)"
   ]
  },
  {
   "cell_type": "markdown",
   "metadata": {},
   "source": [
    "3.4. Guardar consulta (insumo para la API) en la carperta Data_Queries:"
   ]
  },
  {
   "cell_type": "code",
   "execution_count": 66,
   "metadata": {},
   "outputs": [
    {
     "name": "stdout",
     "output_type": "stream",
     "text": [
      "DataFrame exportado a Data_Queries/End2_User.csv\n",
      "DataFrame exportado a Data_Queries/UReviews_F.csv\n"
     ]
    }
   ],
   "source": [
    "# Exportar el DataFrame a CSV:\n",
    "\n",
    "End2_User.to_csv('Data_Queries/End2_User.csv', index=False)\n",
    "print(f\"DataFrame exportado a {'Data_Queries/End2_User.csv'}\")\n",
    "\n",
    "UReviews_F.to_csv('Data_Queries/UReviews_F.csv', index=False)\n",
    "print(f\"DataFrame exportado a {'Data_Queries/UReviews_F.csv'}\")"
   ]
  },
  {
   "cell_type": "markdown",
   "metadata": {},
   "source": [
    "### 4. Función Usuario por Género de video Juego:\n",
    "\n",
    "def UserForGenre( genero: str ) : Debe devolver el usuario que acumula más horas jugadas para el género dado y una lista de la acumulación de horas jugadas por año de lanzamiento.\n",
    "\n",
    "Ejemplo de retorno: {\"Usuario con más horas jugadas para Género X\" : us213ndjss09sdf, \"Horas jugadas\":[{Año: 2013, Horas: 203}, {Año: 2012, Horas: 100}, {Año: 2011, Horas : 23}]}"
   ]
  },
  {
   "cell_type": "markdown",
   "metadata": {},
   "source": [
    "4.1. Crear datos de Entrada:"
   ]
  },
  {
   "cell_type": "code",
   "execution_count": 95,
   "metadata": {},
   "outputs": [
    {
     "data": {
      "text/html": [
       "<div>\n",
       "<style scoped>\n",
       "    .dataframe tbody tr th:only-of-type {\n",
       "        vertical-align: middle;\n",
       "    }\n",
       "\n",
       "    .dataframe tbody tr th {\n",
       "        vertical-align: top;\n",
       "    }\n",
       "\n",
       "    .dataframe thead th {\n",
       "        text-align: right;\n",
       "    }\n",
       "</style>\n",
       "<table border=\"1\" class=\"dataframe\">\n",
       "  <thead>\n",
       "    <tr style=\"text-align: right;\">\n",
       "      <th></th>\n",
       "      <th>id</th>\n",
       "      <th>release_year</th>\n",
       "      <th>genres</th>\n",
       "    </tr>\n",
       "  </thead>\n",
       "  <tbody>\n",
       "    <tr>\n",
       "      <th>0</th>\n",
       "      <td>761140.0</td>\n",
       "      <td>2018</td>\n",
       "      <td>Action</td>\n",
       "    </tr>\n",
       "    <tr>\n",
       "      <th>1</th>\n",
       "      <td>761140.0</td>\n",
       "      <td>2018</td>\n",
       "      <td>Casual</td>\n",
       "    </tr>\n",
       "    <tr>\n",
       "      <th>2</th>\n",
       "      <td>761140.0</td>\n",
       "      <td>2018</td>\n",
       "      <td>Indie</td>\n",
       "    </tr>\n",
       "    <tr>\n",
       "      <th>3</th>\n",
       "      <td>761140.0</td>\n",
       "      <td>2018</td>\n",
       "      <td>Simulation</td>\n",
       "    </tr>\n",
       "    <tr>\n",
       "      <th>4</th>\n",
       "      <td>761140.0</td>\n",
       "      <td>2018</td>\n",
       "      <td>Strategy</td>\n",
       "    </tr>\n",
       "    <tr>\n",
       "      <th>...</th>\n",
       "      <td>...</td>\n",
       "      <td>...</td>\n",
       "      <td>...</td>\n",
       "    </tr>\n",
       "    <tr>\n",
       "      <th>80404</th>\n",
       "      <td>681550.0</td>\n",
       "      <td>0</td>\n",
       "      <td>Adventure</td>\n",
       "    </tr>\n",
       "    <tr>\n",
       "      <th>80405</th>\n",
       "      <td>681550.0</td>\n",
       "      <td>0</td>\n",
       "      <td>Indie</td>\n",
       "    </tr>\n",
       "    <tr>\n",
       "      <th>80406</th>\n",
       "      <td>681550.0</td>\n",
       "      <td>0</td>\n",
       "      <td>Action</td>\n",
       "    </tr>\n",
       "    <tr>\n",
       "      <th>80407</th>\n",
       "      <td>681550.0</td>\n",
       "      <td>0</td>\n",
       "      <td>Simulation</td>\n",
       "    </tr>\n",
       "    <tr>\n",
       "      <th>80408</th>\n",
       "      <td>681550.0</td>\n",
       "      <td>0</td>\n",
       "      <td>VR</td>\n",
       "    </tr>\n",
       "  </tbody>\n",
       "</table>\n",
       "<p>80409 rows × 3 columns</p>\n",
       "</div>"
      ],
      "text/plain": [
       "             id  release_year      genres\n",
       "0      761140.0          2018      Action\n",
       "1      761140.0          2018      Casual\n",
       "2      761140.0          2018       Indie\n",
       "3      761140.0          2018  Simulation\n",
       "4      761140.0          2018    Strategy\n",
       "...         ...           ...         ...\n",
       "80404  681550.0             0   Adventure\n",
       "80405  681550.0             0       Indie\n",
       "80406  681550.0             0      Action\n",
       "80407  681550.0             0  Simulation\n",
       "80408  681550.0             0          VR\n",
       "\n",
       "[80409 rows x 3 columns]"
      ]
     },
     "execution_count": 95,
     "metadata": {},
     "output_type": "execute_result"
    }
   ],
   "source": [
    "# crear subset de SGames con las columnas necesarias:\n",
    "subset_SGames = SGames[['id', 'release_year']]\n",
    "\n",
    "# Unir subset_SGames y Genres_Items por la columna 'id':\n",
    "merged_data = pd.merge(subset_SGames, Genres_Items, on='id')\n",
    "merged_data"
   ]
  },
  {
   "cell_type": "code",
   "execution_count": 96,
   "metadata": {},
   "outputs": [
    {
     "data": {
      "text/html": [
       "<div>\n",
       "<style scoped>\n",
       "    .dataframe tbody tr th:only-of-type {\n",
       "        vertical-align: middle;\n",
       "    }\n",
       "\n",
       "    .dataframe tbody tr th {\n",
       "        vertical-align: top;\n",
       "    }\n",
       "\n",
       "    .dataframe thead th {\n",
       "        text-align: right;\n",
       "    }\n",
       "</style>\n",
       "<table border=\"1\" class=\"dataframe\">\n",
       "  <thead>\n",
       "    <tr style=\"text-align: right;\">\n",
       "      <th></th>\n",
       "      <th>user_id</th>\n",
       "      <th>item_id</th>\n",
       "      <th>playtime_forever</th>\n",
       "      <th>release_year</th>\n",
       "      <th>genres</th>\n",
       "    </tr>\n",
       "  </thead>\n",
       "  <tbody>\n",
       "    <tr>\n",
       "      <th>0</th>\n",
       "      <td>76561197970982479</td>\n",
       "      <td>10</td>\n",
       "      <td>6</td>\n",
       "      <td>2000</td>\n",
       "      <td>Action</td>\n",
       "    </tr>\n",
       "    <tr>\n",
       "      <th>1</th>\n",
       "      <td>js41637</td>\n",
       "      <td>10</td>\n",
       "      <td>0</td>\n",
       "      <td>2000</td>\n",
       "      <td>Action</td>\n",
       "    </tr>\n",
       "    <tr>\n",
       "      <th>2</th>\n",
       "      <td>Riot-Punch</td>\n",
       "      <td>10</td>\n",
       "      <td>0</td>\n",
       "      <td>2000</td>\n",
       "      <td>Action</td>\n",
       "    </tr>\n",
       "    <tr>\n",
       "      <th>3</th>\n",
       "      <td>doctr</td>\n",
       "      <td>10</td>\n",
       "      <td>93</td>\n",
       "      <td>2000</td>\n",
       "      <td>Action</td>\n",
       "    </tr>\n",
       "    <tr>\n",
       "      <th>4</th>\n",
       "      <td>corrupted_soul</td>\n",
       "      <td>10</td>\n",
       "      <td>108</td>\n",
       "      <td>2000</td>\n",
       "      <td>Action</td>\n",
       "    </tr>\n",
       "  </tbody>\n",
       "</table>\n",
       "</div>"
      ],
      "text/plain": [
       "             user_id  item_id  playtime_forever  release_year  genres\n",
       "0  76561197970982479       10                 6          2000  Action\n",
       "1            js41637       10                 0          2000  Action\n",
       "2         Riot-Punch       10                 0          2000  Action\n",
       "3              doctr       10                93          2000  Action\n",
       "4     corrupted_soul       10               108          2000  Action"
      ]
     },
     "execution_count": 96,
     "metadata": {},
     "output_type": "execute_result"
    }
   ],
   "source": [
    "# Seleccionar las columnas 'user_id', 'item_id' y 'playtime_forever' de UItems_CD:\n",
    "UItems_subset = UItems[['user_id', 'item_id', 'playtime_forever']]\n",
    "\n",
    "# Unir UItems_CD_subset con merged_data por las columnas 'item_id' e 'id':\n",
    "End3_Genre_User = pd.merge(UItems_subset, merged_data, left_on='item_id', right_on='id')\n",
    "\n",
    "# Eliminar la columna duplicada 'id':\n",
    "End3_Genre_User = End3_Genre_User.drop(columns=['id'])\n",
    "\n",
    "# Eliminar filas con Año==0 en UserForGenre:\n",
    "End3_Genre_User = End3_Genre_User[End3_Genre_User['release_year'] != 0]\n",
    "\n",
    "# Mostrar el DataFrame resultante:\n",
    "End3_Genre_User.head()\n"
   ]
  },
  {
   "cell_type": "markdown",
   "metadata": {},
   "source": [
    "4.2. Crear función UserForGenre:"
   ]
  },
  {
   "cell_type": "code",
   "execution_count": 98,
   "metadata": {},
   "outputs": [],
   "source": [
    "def UserForGenre(genero: str):\n",
    "    # Filtrar UserForGenre por el género dado\n",
    "    genre_data = End3_Genre_User[End3_Genre_User['genres'] == genero]\n",
    "\n",
    "    # Encontrar al usuario con más horas jugadas para el género dado\n",
    "    max_hours_user = genre_data.loc[genre_data['playtime_forever'].idxmax()]['user_id']\n",
    "\n",
    "    # Crear una lista de la acumulación de horas jugadas por año de lanzamiento\n",
    "    hours_by_year = genre_data.groupby('release_year')['playtime_forever'].sum().reset_index()\n",
    "    hours_by_year_list = [{\"Año\": int(year), \"Horas\": int(hours)} for year, hours in hours_by_year.values]\n",
    "\n",
    "    # Crear el diccionario de resultados\n",
    "    result_dict = {\n",
    "        f\"Usuario con más horas jugadas para el género {genero}\": max_hours_user,\n",
    "        \"Horas jugadas\": hours_by_year_list\n",
    "    }\n",
    "\n",
    "    return result_dict\n"
   ]
  },
  {
   "cell_type": "markdown",
   "metadata": {},
   "source": [
    "4.3. Probar función:"
   ]
  },
  {
   "cell_type": "code",
   "execution_count": 99,
   "metadata": {},
   "outputs": [
    {
     "name": "stdout",
     "output_type": "stream",
     "text": [
      "{'Usuario con más horas jugadas para el género Action': 'Evilutional', 'Horas jugadas': [{'Año': 1983, 'Horas': 3582}, {'Año': 1984, 'Horas': 384}, {'Año': 1988, 'Horas': 16243}, {'Año': 1989, 'Horas': 607}, {'Año': 1990, 'Horas': 18787}, {'Año': 1991, 'Horas': 2502}, {'Año': 1992, 'Horas': 1925}, {'Año': 1993, 'Horas': 24663}, {'Año': 1994, 'Horas': 121057}, {'Año': 1995, 'Horas': 217813}, {'Año': 1996, 'Horas': 70061}, {'Año': 1997, 'Horas': 363033}, {'Año': 1998, 'Horas': 2935053}, {'Año': 1999, 'Horas': 2735338}, {'Año': 2000, 'Horas': 18661379}, {'Año': 2001, 'Horas': 1337303}, {'Año': 2002, 'Horas': 740382}, {'Año': 2003, 'Horas': 11969297}, {'Año': 2004, 'Horas': 131222294}, {'Año': 2005, 'Horas': 12426135}, {'Año': 2006, 'Horas': 10941224}, {'Año': 2007, 'Horas': 17744979}, {'Año': 2008, 'Horas': 33990368}, {'Año': 2009, 'Horas': 165437678}, {'Año': 2010, 'Horas': 182666321}, {'Año': 2011, 'Horas': 335982600}, {'Año': 2012, 'Horas': 1099231451}, {'Año': 2013, 'Horas': 420745701}, {'Año': 2014, 'Horas': 169214016}, {'Año': 2015, 'Horas': 254902488}, {'Año': 2016, 'Horas': 97032723}, {'Año': 2017, 'Horas': 127853760}, {'Año': 2018, 'Horas': 2224}]}\n"
     ]
    }
   ],
   "source": [
    "# Ejemplo de uso\n",
    "genero_ejemplo = \"Action\"  # Reemplazar con el género deseado\n",
    "resultado = UserForGenre(genero_ejemplo)\n",
    "print(resultado)"
   ]
  },
  {
   "cell_type": "markdown",
   "metadata": {},
   "source": [
    "4.5. Guardar consulta (insumo para la API) en la carperta Data_Queries:"
   ]
  },
  {
   "cell_type": "code",
   "execution_count": 100,
   "metadata": {},
   "outputs": [
    {
     "name": "stdout",
     "output_type": "stream",
     "text": [
      "DataFrame exportado a Data_Queries/End3_Genre_User.csv\n"
     ]
    }
   ],
   "source": [
    "# Exportar el DataFrame a CSV:\n",
    "\n",
    "End3_Genre_User.to_csv('Data_Queries/End3_Genre_User.csv', index=False)\n",
    "print(f\"DataFrame exportado a {'Data_Queries/End3_Genre_User.csv'}\")\n"
   ]
  },
  {
   "cell_type": "markdown",
   "metadata": {},
   "source": [
    "### 5. Crear función de mejor desarrollador por año:\n",
    "\n",
    "def best_developer_year( año: int ) : Devuelve el top 3 de desarrolladores con juegos MÁS recomendados por usuarios para el año dado. (reviews.recommend = Verdadero y comentarios positivos)\n",
    "\n",
    "Ejemplo de retorno: [{\"Puesto 1\" : X}, {\"Puesto 2\" : Y},{\"Puesto 3\" : Z}]\n"
   ]
  },
  {
   "cell_type": "markdown",
   "metadata": {},
   "source": [
    "5.1. Crear los datos de entrada:"
   ]
  },
  {
   "cell_type": "code",
   "execution_count": 101,
   "metadata": {},
   "outputs": [
    {
     "data": {
      "text/html": [
       "<div>\n",
       "<style scoped>\n",
       "    .dataframe tbody tr th:only-of-type {\n",
       "        vertical-align: middle;\n",
       "    }\n",
       "\n",
       "    .dataframe tbody tr th {\n",
       "        vertical-align: top;\n",
       "    }\n",
       "\n",
       "    .dataframe thead th {\n",
       "        text-align: right;\n",
       "    }\n",
       "</style>\n",
       "<table border=\"1\" class=\"dataframe\">\n",
       "  <thead>\n",
       "    <tr style=\"text-align: right;\">\n",
       "      <th></th>\n",
       "      <th>posted_year</th>\n",
       "      <th>item_id</th>\n",
       "      <th>count</th>\n",
       "    </tr>\n",
       "  </thead>\n",
       "  <tbody>\n",
       "    <tr>\n",
       "      <th>0</th>\n",
       "      <td>2010</td>\n",
       "      <td>240</td>\n",
       "      <td>2</td>\n",
       "    </tr>\n",
       "    <tr>\n",
       "      <th>1</th>\n",
       "      <td>2010</td>\n",
       "      <td>300</td>\n",
       "      <td>1</td>\n",
       "    </tr>\n",
       "    <tr>\n",
       "      <th>2</th>\n",
       "      <td>2010</td>\n",
       "      <td>400</td>\n",
       "      <td>2</td>\n",
       "    </tr>\n",
       "    <tr>\n",
       "      <th>3</th>\n",
       "      <td>2010</td>\n",
       "      <td>440</td>\n",
       "      <td>9</td>\n",
       "    </tr>\n",
       "    <tr>\n",
       "      <th>4</th>\n",
       "      <td>2010</td>\n",
       "      <td>550</td>\n",
       "      <td>1</td>\n",
       "    </tr>\n",
       "    <tr>\n",
       "      <th>...</th>\n",
       "      <td>...</td>\n",
       "      <td>...</td>\n",
       "      <td>...</td>\n",
       "    </tr>\n",
       "    <tr>\n",
       "      <th>3842</th>\n",
       "      <td>2015</td>\n",
       "      <td>419070</td>\n",
       "      <td>1</td>\n",
       "    </tr>\n",
       "    <tr>\n",
       "      <th>3843</th>\n",
       "      <td>2015</td>\n",
       "      <td>421630</td>\n",
       "      <td>1</td>\n",
       "    </tr>\n",
       "    <tr>\n",
       "      <th>3844</th>\n",
       "      <td>2015</td>\n",
       "      <td>423120</td>\n",
       "      <td>1</td>\n",
       "    </tr>\n",
       "    <tr>\n",
       "      <th>3845</th>\n",
       "      <td>2015</td>\n",
       "      <td>423880</td>\n",
       "      <td>7</td>\n",
       "    </tr>\n",
       "    <tr>\n",
       "      <th>3846</th>\n",
       "      <td>2015</td>\n",
       "      <td>428880</td>\n",
       "      <td>1</td>\n",
       "    </tr>\n",
       "  </tbody>\n",
       "</table>\n",
       "<p>3847 rows × 3 columns</p>\n",
       "</div>"
      ],
      "text/plain": [
       "      posted_year  item_id  count\n",
       "0            2010      240      2\n",
       "1            2010      300      1\n",
       "2            2010      400      2\n",
       "3            2010      440      9\n",
       "4            2010      550      1\n",
       "...           ...      ...    ...\n",
       "3842         2015   419070      1\n",
       "3843         2015   421630      1\n",
       "3844         2015   423120      1\n",
       "3845         2015   423880      7\n",
       "3846         2015   428880      1\n",
       "\n",
       "[3847 rows x 3 columns]"
      ]
     },
     "execution_count": 101,
     "metadata": {},
     "output_type": "execute_result"
    }
   ],
   "source": [
    "# Filtrar por recommend == True y sentiment_analysis == 2\n",
    "filtered_reviews = UReviews[(UReviews['recommend'] == True) & (UReviews['sentiment_analysis'] == 2)]\n",
    "\n",
    "# Resumir por el conteo de \"item_id\" por cada año \"posted_year\"\n",
    "UReviews_gb = filtered_reviews.groupby(['posted_year', 'item_id']).size().reset_index(name='count')\n",
    "\n",
    "# Mostrar el DataFrame resultante\n",
    "UReviews_gb\n"
   ]
  },
  {
   "cell_type": "markdown",
   "metadata": {},
   "source": [
    "Solo se requiere saber el desarrollador y para ello se debe filtrar el dataframe de \"SGames\" y unir con la tabala anterior:"
   ]
  },
  {
   "cell_type": "code",
   "execution_count": 109,
   "metadata": {},
   "outputs": [
    {
     "data": {
      "text/html": [
       "<div>\n",
       "<style scoped>\n",
       "    .dataframe tbody tr th:only-of-type {\n",
       "        vertical-align: middle;\n",
       "    }\n",
       "\n",
       "    .dataframe tbody tr th {\n",
       "        vertical-align: top;\n",
       "    }\n",
       "\n",
       "    .dataframe thead th {\n",
       "        text-align: right;\n",
       "    }\n",
       "</style>\n",
       "<table border=\"1\" class=\"dataframe\">\n",
       "  <thead>\n",
       "    <tr style=\"text-align: right;\">\n",
       "      <th></th>\n",
       "      <th>developer</th>\n",
       "      <th>item_id</th>\n",
       "      <th>posted_year</th>\n",
       "      <th>count</th>\n",
       "    </tr>\n",
       "  </thead>\n",
       "  <tbody>\n",
       "    <tr>\n",
       "      <th>0</th>\n",
       "      <td>Valve</td>\n",
       "      <td>70</td>\n",
       "      <td>2011</td>\n",
       "      <td>1</td>\n",
       "    </tr>\n",
       "    <tr>\n",
       "      <th>1</th>\n",
       "      <td>Valve</td>\n",
       "      <td>70</td>\n",
       "      <td>2012</td>\n",
       "      <td>2</td>\n",
       "    </tr>\n",
       "    <tr>\n",
       "      <th>2</th>\n",
       "      <td>Valve</td>\n",
       "      <td>70</td>\n",
       "      <td>2013</td>\n",
       "      <td>8</td>\n",
       "    </tr>\n",
       "    <tr>\n",
       "      <th>3</th>\n",
       "      <td>Valve</td>\n",
       "      <td>70</td>\n",
       "      <td>2014</td>\n",
       "      <td>16</td>\n",
       "    </tr>\n",
       "    <tr>\n",
       "      <th>4</th>\n",
       "      <td>Valve</td>\n",
       "      <td>70</td>\n",
       "      <td>2015</td>\n",
       "      <td>11</td>\n",
       "    </tr>\n",
       "    <tr>\n",
       "      <th>...</th>\n",
       "      <td>...</td>\n",
       "      <td>...</td>\n",
       "      <td>...</td>\n",
       "      <td>...</td>\n",
       "    </tr>\n",
       "    <tr>\n",
       "      <th>3359</th>\n",
       "      <td>Epic Games, Inc.</td>\n",
       "      <td>13230</td>\n",
       "      <td>2012</td>\n",
       "      <td>1</td>\n",
       "    </tr>\n",
       "    <tr>\n",
       "      <th>3360</th>\n",
       "      <td>Epic Games, Inc.</td>\n",
       "      <td>13230</td>\n",
       "      <td>2014</td>\n",
       "      <td>1</td>\n",
       "    </tr>\n",
       "    <tr>\n",
       "      <th>3361</th>\n",
       "      <td>Epic Games, Inc.</td>\n",
       "      <td>13230</td>\n",
       "      <td>2015</td>\n",
       "      <td>2</td>\n",
       "    </tr>\n",
       "    <tr>\n",
       "      <th>3362</th>\n",
       "      <td>Valve</td>\n",
       "      <td>80</td>\n",
       "      <td>2013</td>\n",
       "      <td>1</td>\n",
       "    </tr>\n",
       "    <tr>\n",
       "      <th>3363</th>\n",
       "      <td>Valve</td>\n",
       "      <td>80</td>\n",
       "      <td>2015</td>\n",
       "      <td>3</td>\n",
       "    </tr>\n",
       "  </tbody>\n",
       "</table>\n",
       "<p>3364 rows × 4 columns</p>\n",
       "</div>"
      ],
      "text/plain": [
       "             developer  item_id  posted_year  count\n",
       "0                Valve       70         2011      1\n",
       "1                Valve       70         2012      2\n",
       "2                Valve       70         2013      8\n",
       "3                Valve       70         2014     16\n",
       "4                Valve       70         2015     11\n",
       "...                ...      ...          ...    ...\n",
       "3359  Epic Games, Inc.    13230         2012      1\n",
       "3360  Epic Games, Inc.    13230         2014      1\n",
       "3361  Epic Games, Inc.    13230         2015      2\n",
       "3362             Valve       80         2013      1\n",
       "3363             Valve       80         2015      3\n",
       "\n",
       "[3364 rows x 4 columns]"
      ]
     },
     "execution_count": 109,
     "metadata": {},
     "output_type": "execute_result"
    }
   ],
   "source": [
    "# Crear subconjunto de \"SGames\":\n",
    "Games_subset= SGames[['developer','id']]\n",
    "\n",
    "#Unir con la tabla \"UReviews_gb\"\n",
    "End4_BestDeveloperYear= pd.merge(Games_subset, UReviews_gb, left_on='id', right_on='item_id')\n",
    "\n",
    "# Seleccionar las columnas necesarias:\n",
    "End4_BestDeveloperYear=End4_BestDeveloperYear[['developer', 'item_id','posted_year','count']]\n",
    "End4_BestDeveloperYear"
   ]
  },
  {
   "cell_type": "markdown",
   "metadata": {},
   "source": [
    "5.2. Crear función \"best_developer_year\":"
   ]
  },
  {
   "cell_type": "code",
   "execution_count": 114,
   "metadata": {},
   "outputs": [],
   "source": [
    "def best_developer_year(año: int):\n",
    "    # Filtrar End4_BestDeveloperYear por el año dado\n",
    "    filtered_data = End4_BestDeveloperYear[End4_BestDeveloperYear['posted_year'] == año]\n",
    "\n",
    "    # Filtrar por juegos más recomendados (recommend = Verdadero y comentarios positivos)\n",
    "    top_developers = filtered_data[filtered_data['count'] > 0]\n",
    "\n",
    "    # Sumar los conteos por desarrollador y obtener el ranking de los 3 mejores desarrolladores\n",
    "    top3_developers = top_developers.groupby('developer')['count'].sum().nlargest(3).reset_index()\n",
    "\n",
    "    # Crear la lista de resultados en el formato deseado\n",
    "    result_list = [{\"Puesto {}\".format(i + 1): developer} for i, developer in enumerate(top3_developers['developer'])]\n",
    "\n",
    "    return result_list"
   ]
  },
  {
   "cell_type": "markdown",
   "metadata": {},
   "source": [
    "5.3. Probar función:"
   ]
  },
  {
   "cell_type": "code",
   "execution_count": 115,
   "metadata": {},
   "outputs": [
    {
     "name": "stdout",
     "output_type": "stream",
     "text": [
      "[{'Puesto 1': 'Valve'}, {'Puesto 2': 'Facepunch Studios'}, {'Puesto 3': 'Smartly Dressed Games'}]\n"
     ]
    }
   ],
   "source": [
    "# Ejemplo de uso\n",
    "año_ejemplo = 2015  # Reemplazar con el año deseado\n",
    "resultado = best_developer_year(año_ejemplo)\n",
    "print(resultado)"
   ]
  },
  {
   "cell_type": "markdown",
   "metadata": {},
   "source": [
    "5.4. Guardar consulta (insumo para la API) en la carperta Data_Queries:"
   ]
  },
  {
   "cell_type": "code",
   "execution_count": 116,
   "metadata": {},
   "outputs": [
    {
     "name": "stdout",
     "output_type": "stream",
     "text": [
      "DataFrame exportado a Data_Queries/End4_BestDeveloperYear.csv\n"
     ]
    }
   ],
   "source": [
    "# Exportar el DataFrame a CSV:\n",
    "\n",
    "End4_BestDeveloperYear.to_csv('Data_Queries/End4_BestDeveloperYear.csv', index=False)\n",
    "print(f\"DataFrame exportado a {'Data_Queries/End4_BestDeveloperYear.csv'}\")"
   ]
  },
  {
   "cell_type": "markdown",
   "metadata": {},
   "source": [
    "### 6. Crear función que mida la percepción por desarrollador:\n",
    "\n",
    "def desarrollador_reviews_analysis( desarrolladora: str ) : Según el desarrollador, se devuelve un diccionario con el nombre del desarrollador como llave y una lista con la cantidad total de registros de reseñas de usuarios que se encuentran categorizados con un análisis de sentimiento como valor positivo o negativo.\n",
    "\n",
    "Ejemplo de retorno: {'Valve' : [Negative = 182, Positive = 278]}"
   ]
  },
  {
   "cell_type": "markdown",
   "metadata": {},
   "source": [
    "6.1. Crear los datos de entrada:"
   ]
  },
  {
   "cell_type": "code",
   "execution_count": 123,
   "metadata": {},
   "outputs": [
    {
     "data": {
      "text/html": [
       "<div>\n",
       "<style scoped>\n",
       "    .dataframe tbody tr th:only-of-type {\n",
       "        vertical-align: middle;\n",
       "    }\n",
       "\n",
       "    .dataframe tbody tr th {\n",
       "        vertical-align: top;\n",
       "    }\n",
       "\n",
       "    .dataframe thead th {\n",
       "        text-align: right;\n",
       "    }\n",
       "</style>\n",
       "<table border=\"1\" class=\"dataframe\">\n",
       "  <thead>\n",
       "    <tr style=\"text-align: right;\">\n",
       "      <th></th>\n",
       "      <th>developer</th>\n",
       "      <th>item_id</th>\n",
       "      <th>sentiment_analysis</th>\n",
       "    </tr>\n",
       "  </thead>\n",
       "  <tbody>\n",
       "    <tr>\n",
       "      <th>0</th>\n",
       "      <td>Valve</td>\n",
       "      <td>70</td>\n",
       "      <td>2</td>\n",
       "    </tr>\n",
       "    <tr>\n",
       "      <th>1</th>\n",
       "      <td>Valve</td>\n",
       "      <td>70</td>\n",
       "      <td>0</td>\n",
       "    </tr>\n",
       "    <tr>\n",
       "      <th>2</th>\n",
       "      <td>Valve</td>\n",
       "      <td>70</td>\n",
       "      <td>0</td>\n",
       "    </tr>\n",
       "    <tr>\n",
       "      <th>3</th>\n",
       "      <td>Valve</td>\n",
       "      <td>70</td>\n",
       "      <td>2</td>\n",
       "    </tr>\n",
       "    <tr>\n",
       "      <th>4</th>\n",
       "      <td>Valve</td>\n",
       "      <td>70</td>\n",
       "      <td>2</td>\n",
       "    </tr>\n",
       "    <tr>\n",
       "      <th>...</th>\n",
       "      <td>...</td>\n",
       "      <td>...</td>\n",
       "      <td>...</td>\n",
       "    </tr>\n",
       "    <tr>\n",
       "      <th>44734</th>\n",
       "      <td>Valve</td>\n",
       "      <td>80</td>\n",
       "      <td>1</td>\n",
       "    </tr>\n",
       "    <tr>\n",
       "      <th>44735</th>\n",
       "      <td>Valve</td>\n",
       "      <td>80</td>\n",
       "      <td>2</td>\n",
       "    </tr>\n",
       "    <tr>\n",
       "      <th>44736</th>\n",
       "      <td>Valve</td>\n",
       "      <td>80</td>\n",
       "      <td>2</td>\n",
       "    </tr>\n",
       "    <tr>\n",
       "      <th>44737</th>\n",
       "      <td>Valve</td>\n",
       "      <td>80</td>\n",
       "      <td>1</td>\n",
       "    </tr>\n",
       "    <tr>\n",
       "      <th>44738</th>\n",
       "      <td>Valve</td>\n",
       "      <td>80</td>\n",
       "      <td>0</td>\n",
       "    </tr>\n",
       "  </tbody>\n",
       "</table>\n",
       "<p>44739 rows × 3 columns</p>\n",
       "</div>"
      ],
      "text/plain": [
       "      developer  item_id  sentiment_analysis\n",
       "0         Valve       70                   2\n",
       "1         Valve       70                   0\n",
       "2         Valve       70                   0\n",
       "3         Valve       70                   2\n",
       "4         Valve       70                   2\n",
       "...         ...      ...                 ...\n",
       "44734     Valve       80                   1\n",
       "44735     Valve       80                   2\n",
       "44736     Valve       80                   2\n",
       "44737     Valve       80                   1\n",
       "44738     Valve       80                   0\n",
       "\n",
       "[44739 rows x 3 columns]"
      ]
     },
     "execution_count": 123,
     "metadata": {},
     "output_type": "execute_result"
    }
   ],
   "source": [
    "# crear subconjunto de UReviews con el análisis de sentimiento:\n",
    "sentimiento=UReviews[['item_id','sentiment_analysis']]\n",
    "\n",
    "# Unimos data set creutilizando el subconjunto creado de Games_subset:\n",
    "End5_Sentimiento=pd.merge(Games_subset, sentimiento, left_on='id', right_on='item_id')\n",
    "\n",
    "# Seleccionamos columnas necesarias:\n",
    "End5_Sentimiento=End5_Sentimiento[['developer','item_id','sentiment_analysis']]\n",
    "\n",
    "# Revisamos dataframe:\n",
    "End5_Sentimiento\n"
   ]
  },
  {
   "cell_type": "markdown",
   "metadata": {},
   "source": [
    "6.2. Crear función \"developer_reviews_analysis\":"
   ]
  },
  {
   "cell_type": "code",
   "execution_count": 126,
   "metadata": {},
   "outputs": [],
   "source": [
    "def developer_reviews_analysis(desarrolladora: str):\n",
    "    # Filtrar End5_Sentimiento por el desarrollador dado\n",
    "    developer_data = End5_Sentimiento[End5_Sentimiento['developer'] == desarrolladora]\n",
    "\n",
    "    # Contar la cantidad de registros con análisis de sentimiento positivo y negativo\n",
    "    positive_count = (developer_data['sentiment_analysis'] == 2).sum()\n",
    "    negative_count = (developer_data['sentiment_analysis'] == 0).sum()\n",
    "\n",
    "    # Crear el diccionario de resultados\n",
    "    result_dict = {desarrolladora: {'Negative': negative_count, 'Positive': positive_count}}\n",
    "\n",
    "    return result_dict"
   ]
  },
  {
   "cell_type": "markdown",
   "metadata": {},
   "source": [
    "6.3. Probar función:"
   ]
  },
  {
   "cell_type": "code",
   "execution_count": 125,
   "metadata": {},
   "outputs": [
    {
     "name": "stdout",
     "output_type": "stream",
     "text": [
      "{'Valve': {'Negative': 901, 'Positive': 5379}}\n"
     ]
    }
   ],
   "source": [
    "# Ejemplo de uso\n",
    "desarrolladora_ejemplo = 'Valve'  # Reemplazar con el nombre del desarrollador deseado\n",
    "resultado = developer_reviews_analysis(desarrolladora_ejemplo)\n",
    "print(resultado)"
   ]
  },
  {
   "cell_type": "markdown",
   "metadata": {},
   "source": [
    "6.4. Guardar consulta (insumo para la API) en la carperta Data_Queries:"
   ]
  },
  {
   "cell_type": "code",
   "execution_count": 127,
   "metadata": {},
   "outputs": [
    {
     "name": "stdout",
     "output_type": "stream",
     "text": [
      "DataFrame exportado a Data_Queries/End5_Sentimiento.csv\n"
     ]
    }
   ],
   "source": [
    "# Exportar el DataFrame a CSV:\n",
    "\n",
    "End5_Sentimiento.to_csv('Data_Queries/End5_Sentimiento.csv', index=False)\n",
    "print(f\"DataFrame exportado a {'Data_Queries/End5_Sentimiento.csv'}\")"
   ]
  }
 ],
 "metadata": {
  "kernelspec": {
   "display_name": "Python 3",
   "language": "python",
   "name": "python3"
  },
  "language_info": {
   "codemirror_mode": {
    "name": "ipython",
    "version": 3
   },
   "file_extension": ".py",
   "mimetype": "text/x-python",
   "name": "python",
   "nbconvert_exporter": "python",
   "pygments_lexer": "ipython3",
   "version": "3.10.11"
  }
 },
 "nbformat": 4,
 "nbformat_minor": 2
}
